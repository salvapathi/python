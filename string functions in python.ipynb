{
 "cells": [
  {
   "cell_type": "markdown",
   "id": "ec3ce0ef",
   "metadata": {},
   "source": [
    "# string functions::\n",
    "#### string= a string is sequences of character which are inserted in \" quotes \".  strings are \"immutable\" which means they cannot be changed after they are created .\n",
    "properties:we can't change or edit the string because they are immutable \n",
    "inside a string each character will have an index value.\n",
    "#example:\"abcd\" it will have position  index value of  left to righ is (0 1 2)\n",
    "from right to left (-1-2-3)\n",
    "#### **syntax**=variable.function(\" data\")\n",
    "types of string Functions \n",
    "\n",
    "1.capitalize( ) function\n",
    "\n",
    "2.lower( ) function\n",
    "\n",
    "3.title( ) function\n",
    "\n",
    "4.casefold( ) function\n",
    "\n",
    "5.upper( ) function\n",
    "\n",
    "6.count( ) function\n",
    "\n",
    "7.find( ) function\n",
    "\n",
    "8.replace( ) function\n",
    "\n",
    "9.swapcase( ) function\n",
    "\n",
    "###10.join( ) function\n",
    " "
   ]
  },
  {
   "cell_type": "markdown",
   "id": "d23fa2d1",
   "metadata": {},
   "source": [
    "## advance method :which used to replace multiple character in an sequence .\n",
    "by using **assii key value** and **binary value**\n",
    "variable.maketrans(\" \",\" \")  gives us assii key value . the variable.translate(y)\n"
   ]
  },
  {
   "cell_type": "code",
   "execution_count": 1,
   "id": "a4f95412",
   "metadata": {},
   "outputs": [],
   "source": [
    "alpha=\"the world of pollution as increased by 10% by each other and 55.7985 increase in oxygen AA,BB\""
   ]
  },
  {
   "cell_type": "code",
   "execution_count": 2,
   "id": "0c5aff1c",
   "metadata": {},
   "outputs": [],
   "source": [
    "#string methods only applied on string"
   ]
  },
  {
   "cell_type": "code",
   "execution_count": 3,
   "id": "2061530b",
   "metadata": {},
   "outputs": [
    {
     "name": "stdout",
     "output_type": "stream",
     "text": [
      "the world of pollution as increased by 10% by each other and 55.7985 increase in oxygen aa,bb\n",
      "THE WORLD OF POLLUTION AS INCREASED BY 10% BY EACH OTHER AND 55.7985 INCREASE IN OXYGEN AA,BB\n"
     ]
    }
   ],
   "source": [
    "#lowercase\n",
    "y=alpha.lower();print(y)\n",
    "#uppercase\n",
    "z=y.upper();print(z)"
   ]
  },
  {
   "cell_type": "code",
   "execution_count": 4,
   "id": "7275a4b6",
   "metadata": {},
   "outputs": [
    {
     "name": "stdout",
     "output_type": "stream",
     "text": [
      "THE WORLD OF POLLUTION AS INCREASED BY 10% BY EACH OTHER AND 55.7985 INCREASE IN OXYGEN aa,bb\n",
      "the world of pollution as increased by 10% by each other and 55.7985 increase in oxygen AA,BB\n"
     ]
    }
   ],
   "source": [
    "#swapcase \n",
    "k=alpha.swapcase();print(k)\n",
    "l=k.swapcase();print(l)"
   ]
  },
  {
   "cell_type": "code",
   "execution_count": 5,
   "id": "8fc52df2",
   "metadata": {
    "scrolled": true
   },
   "outputs": [
    {
     "name": "stdout",
     "output_type": "stream",
     "text": [
      "the world of pollution as increased by 10% by each other and 55.7985 increase in oxygen aa,bb\n",
      "The World Of Pollution As Increased By 10% By Each Other And 55.7985 Increase In Oxygen Aa,Bb\n"
     ]
    }
   ],
   "source": [
    "#title=which converts every first letter in to captial of a word .\n",
    "t=alpha.lower();print(t)\n",
    "ti=t.title();print(ti)"
   ]
  },
  {
   "cell_type": "markdown",
   "id": "c9319db6",
   "metadata": {},
   "source": [
    "## In count if there is any variation in lower and upper case then count will not be accqurate ...."
   ]
  },
  {
   "cell_type": "markdown",
   "id": "5350e55c",
   "metadata": {},
   "source": [
    "#count=finds number of repeated data\n",
    "data=\"i am very angry at the moment and Angry is my enemy\"\n",
    "data.count(\"angry\")"
   ]
  },
  {
   "cell_type": "code",
   "execution_count": 6,
   "id": "b8a2a888",
   "metadata": {},
   "outputs": [
    {
     "data": {
      "text/plain": [
       "'The world of pollution as increased by 10% by each other and 55.7985 increase in oxygen aa,bb'"
      ]
     },
     "execution_count": 6,
     "metadata": {},
     "output_type": "execute_result"
    }
   ],
   "source": [
    "#capitalize=which converts one any only  first of whole data\n",
    "alpha.capitalize()"
   ]
  },
  {
   "cell_type": "code",
   "execution_count": 7,
   "id": "fc2a41db",
   "metadata": {},
   "outputs": [
    {
     "data": {
      "text/plain": [
       "'A world of pollution as increased by 10% by each oAr and 55.7985 increase in oxygen AA,BB'"
      ]
     },
     "execution_count": 7,
     "metadata": {},
     "output_type": "execute_result"
    }
   ],
   "source": [
    "alpha.replace(\"the\",\"A\")"
   ]
  },
  {
   "cell_type": "code",
   "execution_count": 8,
   "id": "39d48e70",
   "metadata": {},
   "outputs": [
    {
     "data": {
      "text/plain": [
       "19"
      ]
     },
     "execution_count": 8,
     "metadata": {},
     "output_type": "execute_result"
    }
   ],
   "source": [
    "#index:finding the number of our requried character \n",
    "alpha.index(\"i\")"
   ]
  },
  {
   "cell_type": "code",
   "execution_count": 9,
   "id": "e55f82a4",
   "metadata": {},
   "outputs": [
    {
     "data": {
      "text/plain": [
       "26"
      ]
     },
     "execution_count": 9,
     "metadata": {},
     "output_type": "execute_result"
    }
   ],
   "source": [
    "#index in a sequence ,start index and ending index (\"charater\",si,ei).\n",
    "alpha.index(\"i\",20) #if the follow character not avaliable in variable it shows as value error"
   ]
  },
  {
   "cell_type": "code",
   "execution_count": 10,
   "id": "ef65a36c",
   "metadata": {},
   "outputs": [
    {
     "data": {
      "text/plain": [
       "-1"
      ]
     },
     "execution_count": 10,
     "metadata": {},
     "output_type": "execute_result"
    }
   ],
   "source": [
    "#find ,find and index are same but if the value is not found the o/p will be given as -1\n",
    "alpha.find(\"p\",14)"
   ]
  },
  {
   "cell_type": "code",
   "execution_count": 6,
   "id": "2ed7a3d8",
   "metadata": {},
   "outputs": [
    {
     "data": {
      "text/plain": [
       "['the',\n",
       " 'wolrd',\n",
       " 'of',\n",
       " 'pollution',\n",
       " 'as',\n",
       " 'increased',\n",
       " 'by',\n",
       " '10%',\n",
       " 'by',\n",
       " 'each',\n",
       " 'other',\n",
       " 'and',\n",
       " '55.7985',\n",
       " 'increase',\n",
       " 'in',\n",
       " 'oxygen',\n",
       " 'AA,BB']"
      ]
     },
     "execution_count": 6,
     "metadata": {},
     "output_type": "execute_result"
    }
   ],
   "source": [
    "#split method:it is use to split the string in to sub strings and alos we can design according to spaces\n",
    "#by giving the numeric value\n",
    "alpha=\"the wolrd of pollution as increased by 10% by each other and 55.7985 increase in oxygen AA,BB\"\n",
    "alpha.split()"
   ]
  },
  {
   "cell_type": "code",
   "execution_count": null,
   "id": "6206e8d8",
   "metadata": {},
   "outputs": [],
   "source": [
    "#strip =it is used to remove first and last letter of data given in variable .vari.rstrip=reads from right to left,,vari.istrip=reads from right to left\n",
    "#first and last variable should be same \n",
    "alpha.rstrip(\"\")\n",
    "\n"
   ]
  },
  {
   "cell_type": "code",
   "execution_count": null,
   "id": "7ece2213",
   "metadata": {},
   "outputs": [],
   "source": [
    "w=\"@aggasdfljhf@\"\n",
    "print(len(w))\n",
    "q=w.strip(\"@\")\n",
    "print(len(q))\n",
    "q.count(\"g\")\n",
    "print(q)\n",
    "p=w.rstrip(\"@\")\n",
    "print(p)\n",
    "l=w.lstrip(\"@\")\n",
    "print(l)\n",
    "\n",
    "\n"
   ]
  },
  {
   "cell_type": "code",
   "execution_count": null,
   "id": "57cfa8f6",
   "metadata": {},
   "outputs": [],
   "source": [
    "w=\"kaggasdfljhk\"\n",
    "print(len(w))\n",
    "u=w.strip(\"k\")\n",
    "print(u)\n",
    "print(len(u))\n",
    "print(w.rstrip(\"k\"))\n",
    "print(w.lstrip(\"k\"))\n"
   ]
  },
  {
   "cell_type": "code",
   "execution_count": null,
   "id": "337daa18",
   "metadata": {},
   "outputs": [],
   "source": [
    "#replace = it will replace the only patrticular word with other .\n",
    "w.replace(\"k\",\"alpha\")"
   ]
  },
  {
   "cell_type": "code",
   "execution_count": null,
   "id": "00f4669b",
   "metadata": {},
   "outputs": [],
   "source": [
    "#FIND=it is same as index value but .but when character value is not found i gives -1 value \n",
    "finda=\"abcdefghtaaslkjdasd\"\n",
    "print(finda.find(\"a\",1))\n",
    "finda[1:5]\n",
    "          \n"
   ]
  },
  {
   "cell_type": "code",
   "execution_count": null,
   "id": "516c410a",
   "metadata": {},
   "outputs": [],
   "source": [
    "\n"
   ]
  },
  {
   "cell_type": "code",
   "execution_count": null,
   "id": "396b02ed",
   "metadata": {},
   "outputs": [],
   "source": [
    "alpha=\"the wolrd of pollution as increased by 10% by each other and 55.7985 increase in oxygen AA,BB\"\n",
    "alpha.partition(\"pollution\")"
   ]
  },
  {
   "cell_type": "code",
   "execution_count": null,
   "id": "a4c6fdf3",
   "metadata": {},
   "outputs": [],
   "source": [
    "#ADVANCED METHOD=MAKETRANS,AScii,BIN,.TRANSLATE\n",
    "#ASCII stands for American Standard Code for Information Interchange. \n",
    "#It is a character encoding standard that uses numbers from 0 to 127 to represent English characters\n",
    "#For example, ASCII code for the character A is 65, and 90 is for Z.\n",
    "#The bin() method converts a specified integer number to its binary representation and returns it.\n",
    "#variable to asciikey to binary number then to machine .\n",
    "h=\"abcdefghijklmnopa\"\n",
    "f=h.maketrans(\"abc\",\"157\")\n",
    "print(h.maketrans(\"abc\",\"157\"))\n",
    "h.translate(f)\n",
    "\n"
   ]
  },
  {
   "cell_type": "code",
   "execution_count": null,
   "id": "fffab922",
   "metadata": {},
   "outputs": [],
   "source": [
    "alpha=\"the world of pollution as increased by 10% by each other and 55.7985 increase in oxygen AA,BB\"\n",
    "l=alpha.maketrans(\"world\",\"WORLD\");print(l)\n",
    "i=alpha.translate(l)\n",
    "print(i)\n",
    "alpha.replace(\"world\",\"heaven\")\n",
    "\n"
   ]
  },
  {
   "cell_type": "code",
   "execution_count": null,
   "id": "5398d426",
   "metadata": {},
   "outputs": [],
   "source": [
    "beta=\"we maid me tougest all these years i am stronger now\"\n",
    "g=beta.maketrans(\"maid\",\"MAID\");print(g)\n",
    "f=beta.translate(g);print(f)\n",
    "m=f.lower()\n",
    "print(m)\n",
    "m.strip(\"w\")\n",
    "m.lstrip(\"w\")\n",
    "beta.capitalize()\n",
    "beta.title()\n",
    "beta.split(\" \",3)\n"
   ]
  },
  {
   "cell_type": "code",
   "execution_count": null,
   "id": "8b2ed366",
   "metadata": {},
   "outputs": [],
   "source": [
    "#FORMAT METHOD :IS USED TO PRINT THE DATA IN SEQUENCE SYNTAX:X.FORMAT(a,b,c,d)"
   ]
  },
  {
   "cell_type": "code",
   "execution_count": null,
   "id": "62dccaa6",
   "metadata": {},
   "outputs": [],
   "source": [
    "player_name=\"sky\"\n",
    "player_age=23\n",
    "player_weight=55\n",
    "player_gender=\"male\"\n",
    "player_team=\"india\"\n",
    "player_heigh=156.75\n",
    "player_data=\"player name={},player age={},player weight={},player gender={},player team={},player height={}\"\n",
    "player_data.format(player_name,player_age,player_weight,player_gender,player_team,player_heigh)"
   ]
  },
  {
   "cell_type": "code",
   "execution_count": null,
   "id": "644edb7f",
   "metadata": {},
   "outputs": [],
   "source": [
    "#input function\n",
    "player_name=input(\"player_name=\")\n",
    "player_age=int(input(\"player_age=\"))\n",
    "player_weight=int(input(\"player_weight=\"))\n",
    "player_gender=input(\"player_gender=\")\n",
    "player_team=input(\"player_team=\")\n",
    "player_heigh=float(input(\"player_heigh=\"))\n",
    "player_data=\"player_name={},player_age={},player_weight={},player_gender={},player_team={},player_height={}\"\n",
    "player_data.format(player_name,player_age,player_weight,player_gender,player_team,player_heigh)"
   ]
  },
  {
   "cell_type": "code",
   "execution_count": null,
   "id": "6c7093d4",
   "metadata": {},
   "outputs": [],
   "source": [
    "x=6\n",
    "y=7\n",
    "x<y and x==y"
   ]
  },
  {
   "cell_type": "code",
   "execution_count": null,
   "id": "04c8783e",
   "metadata": {},
   "outputs": [],
   "source": [
    "x>y or x!=y"
   ]
  },
  {
   "cell_type": "code",
   "execution_count": null,
   "id": "1eeca83c",
   "metadata": {},
   "outputs": [],
   "source": [
    "not(x>y or x!=y)"
   ]
  },
  {
   "cell_type": "code",
   "execution_count": null,
   "id": "6f4fb723",
   "metadata": {},
   "outputs": [],
   "source": [
    "raghu=\"aABCDGJaHJA\"\n",
    "raghu.count(\"a\",2)"
   ]
  },
  {
   "cell_type": "code",
   "execution_count": null,
   "id": "ad3c02a0",
   "metadata": {},
   "outputs": [],
   "source": [
    "raghu.index(\"A\",8)"
   ]
  },
  {
   "cell_type": "code",
   "execution_count": null,
   "id": "b8a1f242",
   "metadata": {},
   "outputs": [],
   "source": [
    "#Write a program to create a new string made of an input string’s first, middle, and last character.\n",
    "#Given:str1 = \"James\"\n",
    "#o/p=Jms\n",
    "given_name=input(\"enter the name\")\n",
    "given_name[0]+given_name[len(given_name)//2-1]+given_name[-1]\n",
    "\n",
    "\n"
   ]
  },
  {
   "cell_type": "code",
   "execution_count": null,
   "id": "028930f0",
   "metadata": {},
   "outputs": [],
   "source": [
    "#Write a program to create a new string made of the middle three characters of an input string.\n",
    "# Given:str1 = \"JhonDipPeta\",str2 = \"JaSonAy\" \n",
    "\n",
    "the_name=input(\"enter the name=\")\n",
    "the_name[len(the_name)//2-1]+the_name[len(the_name)//2]+the_name[len(the_name)//2+1]\n"
   ]
  },
  {
   "cell_type": "code",
   "execution_count": null,
   "id": "380e853a",
   "metadata": {},
   "outputs": [],
   "source": [
    "#Given two strings, s1 and s2. Write a program to create a new string s3 by appending s2 in the middle of s1.\n",
    "s1 = \"Ault\"\n",
    "s2 = \"Kelly\"\n",
    "s1[0]+s1[len(s1)//2-1]+s2+s1[len(s1)//2]+s1[-1]"
   ]
  },
  {
   "cell_type": "code",
   "execution_count": 27,
   "id": "d7a38cf3",
   "metadata": {},
   "outputs": [
    {
     "name": "stdout",
     "output_type": "stream",
     "text": [
      "yaivePNT\n"
     ]
    }
   ],
   "source": [
    "#Arrange string characters such that lowercase letters should come first\n",
    "#Given string contains a combination of the lower and upper case letters. \n",
    "#Write a program to arrange the characters of a string so that all lowercase letters should come first.\n",
    "#Given:\n",
    "str1 =\"PyNaTive\"\n",
    "#str1[len(str1)//2-3]+str1[len(str1)//2-1]+str1[-3:]+str1[0]+str1[2]+str1[len(str1)//2]\n",
    "upper=[]\n",
    "lower=[]\n",
    "for r in str1:\n",
    "    if r.isupper():\n",
    "          upper.append(r)\n",
    "    else:\n",
    "        lower.append(r)\n",
    "print(\"\".join(lower+upper))\n",
    "    \n"
   ]
  },
  {
   "cell_type": "code",
   "execution_count": 14,
   "id": "7e0a1fb4",
   "metadata": {},
   "outputs": [
    {
     "name": "stdout",
     "output_type": "stream",
     "text": [
      "PNTyaive\n"
     ]
    }
   ],
   "source": [
    "stri=\"PyNaTive\"\n",
    "up=[]\n",
    "lo=[]\n",
    "for i in stri:\n",
    "        if i.islower():\n",
    "             lo.append(i)\n",
    "        else:\n",
    "            up.append(i)\n",
    "print(\"\".join(up+lo))\n",
    "                \n",
    "        \n",
    "        \n",
    "        "
   ]
  },
  {
   "cell_type": "code",
   "execution_count": null,
   "id": "59fa8872",
   "metadata": {},
   "outputs": [],
   "source": [
    "#Given two strings, s1 and s2, write a program to return a new string made of s1 and s2’s first, middle, and last characters.\n",
    "#s1 = \"America\"\n",
    "#s2 = \"Japan\"\n",
    "s1=input(\"first_word\")\n",
    "s2=input(\"second_word\")\n",
    "s1[0]+s2[0]+s1[len(s1)//2-1]+s2[len(s1)//2-1]+s1[-1]+s2[-1]"
   ]
  },
  {
   "cell_type": "code",
   "execution_count": 19,
   "id": "d2b78a66",
   "metadata": {},
   "outputs": [
    {
     "name": "stdout",
     "output_type": "stream",
     "text": [
      "abjsdfhcd5665123456\n"
     ]
    }
   ],
   "source": [
    "beta=\"ab56jsdfh65cd123456\"\n",
    "alpha=[]\n",
    "digi=[]\n",
    "for p in beta:\n",
    "    if p.isalpha():\n",
    "        alpha.append(p)\n",
    "    else:\n",
    "        digi.append(p)\n",
    "        \n",
    "print(\"\".join(alpha+digi))"
   ]
  },
  {
   "cell_type": "code",
   "execution_count": 31,
   "id": "ea996b16",
   "metadata": {},
   "outputs": [
    {
     "name": "stdout",
     "output_type": "stream",
     "text": [
      "AJLKDHSKFGKHJDFGzxaddcs\n"
     ]
    }
   ],
   "source": [
    "water=\"zxaddcsAJLKDHSKFGKHJDFG\"\n",
    "lower=[]\n",
    "upper=[]\n",
    "for m in water:\n",
    "    if m.isupper():\n",
    "        upper.append(m)\n",
    "    else:\n",
    "        lower.append(m)\n",
    "print(\"\".join(upper+lower))\n",
    "        \n",
    "\n"
   ]
  },
  {
   "cell_type": "code",
   "execution_count": 3,
   "id": "27e2dea9",
   "metadata": {},
   "outputs": [
    {
     "name": "stdout",
     "output_type": "stream",
     "text": [
      "@#$%amerciajapan\n"
     ]
    }
   ],
   "source": [
    "gamma=\"amercia5356japan7799055398@#$%\"\n",
    "alpha=[]\n",
    "beta=[]\n",
    "special=[]\n",
    "for l in gamma:\n",
    "    if l.isalpha():\n",
    "        alpha.append(l)\n",
    "    elif l.isdigit():\n",
    "           beta.append(l)\n",
    "    else:\n",
    "        special.append(l)\n",
    "            \n",
    "print(\"\".join(special+alpha))\n",
    "    \n",
    "\n",
    "\n"
   ]
  },
  {
   "cell_type": "code",
   "execution_count": null,
   "id": "61be635b",
   "metadata": {},
   "outputs": [],
   "source": []
  }
 ],
 "metadata": {
  "kernelspec": {
   "display_name": "Python 3 (ipykernel)",
   "language": "python",
   "name": "python3"
  },
  "language_info": {
   "codemirror_mode": {
    "name": "ipython",
    "version": 3
   },
   "file_extension": ".py",
   "mimetype": "text/x-python",
   "name": "python",
   "nbconvert_exporter": "python",
   "pygments_lexer": "ipython3",
   "version": "3.9.13"
  }
 },
 "nbformat": 4,
 "nbformat_minor": 5
}
